{
 "cells": [
  {
   "cell_type": "markdown",
   "id": "d66cd156-3434-4289-86c7-bf39fa3207ed",
   "metadata": {},
   "source": [
    "# Law of large numbers\n",
    "Walkthrough"
   ]
  },
  {
   "cell_type": "code",
   "execution_count": 2,
   "id": "20b410ad-418e-4dad-b0e2-0036c6e0a5cb",
   "metadata": {},
   "outputs": [],
   "source": [
    "# import numpy\n",
    "import numpy as np\n",
    "\n",
    "# set a random seed to replicate the results\n",
    "np.random.seed(42)\n",
    "\n",
    "# import matplotlib to visualize the experiment\n",
    "import matplotlib.pyplot as plt"
   ]
  },
  {
   "cell_type": "code",
   "execution_count": null,
   "id": "14885c26-9091-4450-948f-e8e851401e88",
   "metadata": {},
   "outputs": [],
   "source": []
  }
 ],
 "metadata": {
  "kernelspec": {
   "display_name": "Python 3 (ipykernel)",
   "language": "python",
   "name": "python3"
  },
  "language_info": {
   "codemirror_mode": {
    "name": "ipython",
    "version": 3
   },
   "file_extension": ".py",
   "mimetype": "text/x-python",
   "name": "python",
   "nbconvert_exporter": "python",
   "pygments_lexer": "ipython3",
   "version": "3.8.12"
  }
 },
 "nbformat": 4,
 "nbformat_minor": 5
}
