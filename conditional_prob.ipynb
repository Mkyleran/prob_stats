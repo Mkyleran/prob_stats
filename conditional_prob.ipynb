{
 "cells": [
  {
   "cell_type": "markdown",
   "id": "735f9b6c-3828-4440-b734-64a13e099f77",
   "metadata": {},
   "source": [
    "# Conditional probability\n",
    "## Soccer Game\n",
    "You are off to soccer and want to be the goalkeeper but that depends on who will be coaching today:\n",
    "\n",
    "with coach Sam, the probability of being the goalkeeper is 0.5\n",
    "with coach Alex, the probability of being the goalkeeper is 0.3\n",
    "You also know that Sam coaches more often – about six out of every ten games (a probability of 0.6).\n",
    "\n",
    "So, what is the probability that you will be the goalkeeper today?"
   ]
  },
  {
   "cell_type": "code",
   "execution_count": 1,
   "id": "1d7ad873-599a-4833-94c2-c6f83fb1bd13",
   "metadata": {},
   "outputs": [],
   "source": [
    "import numpy as np"
   ]
  },
  {
   "cell_type": "code",
   "execution_count": 2,
   "id": "e03bcfd4-d7d0-4370-9e0a-ed743e1ee277",
   "metadata": {},
   "outputs": [],
   "source": [
    "# how many times we run the simulation\n",
    "n_runs = 100000\n",
    "\n",
    "# initialize variables\n",
    "SAM = 0\n",
    "SAM_YES = 0\n",
    "SAM_NO = 0\n",
    "ALEX = 0\n",
    "ALEX_YES = 0\n",
    "ALEX_NO = 0\n",
    "YES = 0\n",
    "NO = 0"
   ]
  },
  {
   "cell_type": "code",
   "execution_count": 4,
   "id": "61c64f56-9b73-48d3-8a3c-8e912ee27ca4",
   "metadata": {},
   "outputs": [],
   "source": [
    "# process simulation\n",
    "\n",
    "for _ in range(n_runs):\n",
    "    # Sam (probability of Sam being the coach)\n",
    "    if np.random.random() < 0.6:\n",
    "        SAM += 1\n",
    "        \n",
    "        # YES\n",
    "        if np.random.random() < 0.5:\n",
    "            SAM_YES += 1\n",
    "            YES += 1\n",
    "        \n",
    "        # NO\n",
    "        else:\n",
    "            SAM_NO += 1\n",
    "            NO += 1\n",
    "        \n",
    "    # Alex (probability of Alex being the coach)\n",
    "    else:\n",
    "        ALEX += 1\n",
    "        \n",
    "        # YES\n",
    "        if np.random.random() < 0.3:\n",
    "            ALEX_YES += 1\n",
    "            YES += 1\n",
    "        \n",
    "        # NO\n",
    "        else:\n",
    "            ALEX_NO += 1\n",
    "            NO += 1"
   ]
  },
  {
   "cell_type": "code",
   "execution_count": 5,
   "id": "cfbabb89-812c-4d7d-9419-d756bbb4ddad",
   "metadata": {},
   "outputs": [],
   "source": [
    "# create probabilities\n",
    "P_SAM = SAM / n_runs * 100\n",
    "P_SAM_YES = SAM_YES / n_runs * 100\n",
    "P_SAM_NO = SAM_NO / n_runs * 100\n",
    "P_ALEX = ALEX / n_runs * 100\n",
    "P_ALEX_YES = ALEX_YES / n_runs * 100\n",
    "P_ALEX_NO = ALEX_NO / n_runs * 100\n",
    "P_YES = YES / n_runs * 100\n",
    "P_NO = NO / n_runs * 100"
   ]
  },
  {
   "cell_type": "code",
   "execution_count": 6,
   "id": "af879a2f-16a5-4f35-aa85-20a7b05d1b54",
   "metadata": {},
   "outputs": [
    {
     "name": "stdout",
     "output_type": "stream",
     "text": [
      "Sam is the coach: 59.824%\n",
      "Sam is the coach and you are the goalkeeper: 29.872%\n",
      "Sam is the coach and you are not the goalkeeper: 29.952%\n",
      "Alex is the coach: 40.176%\n",
      "Alex is the coach and you are the goalkeeper: 11.919%\n",
      "Alex is the coach and you are not the goalkeeper: 28.256999999999998%\n",
      "You are the goalkeeper: 41.791%\n",
      "You are not the goalkeeper: 58.209\n"
     ]
    }
   ],
   "source": [
    "print(f'Sam is the coach: {P_SAM}%')\n",
    "print(f'Sam is the coach and you are the goalkeeper: {P_SAM_YES}%')\n",
    "print(f'Sam is the coach and you are not the goalkeeper: {P_SAM_NO}%')\n",
    "print(f'Alex is the coach: {P_ALEX}%')\n",
    "print(f'Alex is the coach and you are the goalkeeper: {P_ALEX_YES}%')\n",
    "print(f'Alex is the coach and you are not the goalkeeper: {P_ALEX_NO}%')\n",
    "print(f'You are the goalkeeper: {P_YES}%')\n",
    "print(f'You are not the goalkeeper: {P_NO}')"
   ]
  },
  {
   "cell_type": "code",
   "execution_count": 7,
   "id": "9978d5ee-46d8-40f0-94d1-fed2cd5482c5",
   "metadata": {},
   "outputs": [
    {
     "name": "stdout",
     "output_type": "stream",
     "text": [
      "0.7147950515661268\n"
     ]
    }
   ],
   "source": [
    "# P(Sam | goalkeeper)\n",
    "P_SAM_GOAL = P_SAM_YES / P_YES\n",
    "print(P_SAM_GOAL)"
   ]
  },
  {
   "cell_type": "code",
   "execution_count": null,
   "id": "de4ddf70-7a8a-48a0-8bd2-ad1a41d8738b",
   "metadata": {},
   "outputs": [],
   "source": []
  }
 ],
 "metadata": {
  "kernelspec": {
   "display_name": "Python 3 (ipykernel)",
   "language": "python",
   "name": "python3"
  },
  "language_info": {
   "codemirror_mode": {
    "name": "ipython",
    "version": 3
   },
   "file_extension": ".py",
   "mimetype": "text/x-python",
   "name": "python",
   "nbconvert_exporter": "python",
   "pygments_lexer": "ipython3",
   "version": "3.8.12"
  }
 },
 "nbformat": 4,
 "nbformat_minor": 5
}
